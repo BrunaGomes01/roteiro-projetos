{
 "cells": [
  {
   "cell_type": "markdown",
   "metadata": {},
   "source": [
    "# Mais sobre funções e Métodos úteis"
   ]
  },
  {
   "cell_type": "markdown",
   "metadata": {},
   "source": [
    "### Aquecimento\n",
    "##### Exercício 0.6\n",
    "Implemente a função *metodos_vetor* que recebe como parâmetro um vetor e retorna o próprio, porém com as seguintes modificações:\n",
    "- Ordene o vetor de forma crescente\n",
    "- Remova o último elemento do vetor (quando já ordenado)\n",
    "- Insira a palavra *abacate* no início\n",
    "- Escreva o vetor resultante\n",
    "\n",
    "DICA! Consulte a [documentação](https://docs.python.org/3.5/tutorial/datastructures.html#more-on-lists) ou os [slides](https://daniel-hasan.github.io/cefet-web-grad/classes/python2/#4) para ver métodos para listas \n",
    "\n",
    "PS: Lembre-se de sempre rodar a função antes e trocas os *null*"
   ]
  },
  {
   "cell_type": "code",
   "execution_count": null,
   "metadata": {},
   "outputs": [],
   "source": [
    "#implemente aqui sua função!"
   ]
  },
  {
   "cell_type": "code",
   "execution_count": null,
   "metadata": {},
   "outputs": [],
   "source": [
    "vetor_str = [\"uva\", \"maçã\", \"abacaxi\", \"pera\"]\n",
    "vetor_int = [2, 3, 7, 8, 0, 4, 1]\n",
    "\n",
    "#faça os testes aqui!"
   ]
  },
  {
   "cell_type": "markdown",
   "metadata": {},
   "source": [
    "##### Exercício 0.7\n",
    "Implemente a função *metodos_string* que recebe como parâmetro uma string e retorna o próprio, porém com as seguintes modificações:\n",
    "- Deixá-la toda maiúscula\n",
    "- Substituir todas as letras \"o\" por \"a\"\n",
    "- Escreva a string resultante\n",
    "\n",
    "DICA! Consulte a [documentação](https://docs.python.org/3.5/library/stdtypes.html#string-methods) ou os [slides](https://daniel-hasan.github.io/cefet-web-grad/classes/python2/#5) para ver métodos para strings \n",
    "\n",
    "PS: Lembre-se de sempre rodar a função antes e trocas os *null*"
   ]
  },
  {
   "cell_type": "code",
   "execution_count": null,
   "metadata": {},
   "outputs": [],
   "source": [
    "#implemente sua função aqui!"
   ]
  },
  {
   "cell_type": "code",
   "execution_count": null,
   "metadata": {},
   "outputs": [],
   "source": [
    "str_1 = \"comemoração\"\n",
    "str_2 = \"olho\"\n",
    "\n",
    "#faça os testes aqui!"
   ]
  },
  {
   "cell_type": "markdown",
   "metadata": {},
   "source": [
    "### Exercício 9: Conversão de datas\n",
    "Implemente a função *converte_data* que recebe como parâmetro uma data no formato DD/MM/YYYY (ex: 09/03/2021) e converte para o formato por extenso \"DD de M de YYYY\" (ou seja, 09 de março de 2020) e escreva-a.\n",
    "\n",
    "Recrie a função *obtem_mes* implementada no exercício 0.5 para te auxiliar. \n",
    "\n",
    "PS: Lembre-se de sempre rodar a função antes e trocar os null"
   ]
  },
  {
   "cell_type": "code",
   "execution_count": null,
   "metadata": {},
   "outputs": [],
   "source": [
    "#implemente sua função aqui!"
   ]
  },
  {
   "cell_type": "code",
   "execution_count": 2,
   "metadata": {},
   "outputs": [],
   "source": [
    "data_1 = \"31/10/2020\"\n",
    "data_2 = \"22/01/2004\""
   ]
  },
  {
   "cell_type": "markdown",
   "metadata": {},
   "source": [
    "### Exercício 10: Operações em string\n",
    "Nesse exercício você irá implementar duas funçãos que auxiliarão nos exercícios posteriores:\n",
    "\n",
    "    *elimina_caracteres* (2 parâmetros)\n",
    "    \n",
    "   Elimina todas as ocorrências dos caracteres especificados de um texto.\n",
    "    \n",
    "   Tanto o texto quanto os caracteres a serem removidos são passados como parâmetros.\n",
    "    \n",
    "   Exemplo: *elimina_caracteres('correndo contra o tempo', 'coe')* devem resultar na string *rrnd cntra tmp*.\n",
    "    \n",
    "   Não altere o *for* já criado!\n",
    "    \n",
    "   A função *.replace* pode te ajudar! consulte [documentação](https://docs.python.org/3.5/library/stdtypes.html#string-methods) ou os [slides](https://daniel-hasan.github.io/cefet-web-grad/classes/python2/#5).\n",
    "    \n",
    "   Lembre-se que vocẽ pode acessar a posição da string como se fosse um vetor, por exemplo, *texto[2]* retorna a posição 2 da string\n",
    "    \n",
    "   DICA: Será necessario usar o *.replace* uma vez para cada caractere especificado (ou seja, dentro de um laço).\n",
    "\n",
    "PS: Lembre-se de sempre rodar a função antes e trocar os null"
   ]
  },
  {
   "cell_type": "markdown",
   "metadata": {},
   "source": [
    "    *substitua_caracteres* (3 parâmetros)\n",
    "    \n",
    "   Dado um texto, uma strig de procura e uma string de reposição, sendo que a string de procura e reposição são de mesmo tamanho. Substitua no texto o caractere na posição i da string de procura pelo caractere na mesma posição i na string de reposição.\n",
    "    \n",
    "   O texto, os caracteres a serem procurados no texto e os caracteres a serem colocados no lugar serão passados como parâmetro.\n",
    "    \n",
    "   Exemplo: *substitua_caracteres('o sapo não lava o pé', 'aoe', iiu)* devem resultar na string *i sipi nii livi i pu*.\n",
    "    \n",
    "   DICA: Será necessario usar o *.replace* uma vez para cada caractere especificado (ou seja, dentro de um laço).\n",
    "\n",
    "PS: Lembre-se de sempre rodar a função antes e trocar os null"
   ]
  },
  {
   "cell_type": "code",
   "execution_count": null,
   "metadata": {},
   "outputs": [],
   "source": [
    "def elimina_caracteres(texto, caracteres_para_eliminar):\n",
    "    for(caracter_eliminar in caracteres_para_eliminar):\n",
    "        //\n",
    "    return null"
   ]
  },
  {
   "cell_type": "code",
   "execution_count": null,
   "metadata": {},
   "outputs": [],
   "source": [
    "def substitua_caracteres(texto, caracteres_procura, caracteres_substituir_por):\n",
    "    for i in range(len(caracteres_procura)):\n",
    "        caractere_procura = caracteres_procura[i]\n",
    "        caractere_substituir_por = caracteres_substituir_por[i]\n",
    "        //\n",
    "    return null"
   ]
  },
  {
   "cell_type": "code",
   "execution_count": null,
   "metadata": {},
   "outputs": [],
   "source": [
    "#testes! Faça mais para verificar todos os casos.\n",
    "# Lembre-se de imprimir o resultado.\n",
    "elimina_caracteres('trigo para tigres tristes', 'ie') #saída: trg para tgrs trsts\n",
    "\n",
    "substitua_caracteres('ana comprou uma ariranha', 'aoi', 'uee') #saida: unu cempreu umu urerunhu"
   ]
  },
  {
   "cell_type": "markdown",
   "metadata": {},
   "source": [
    "### Exercício 11: Palíndromos\n",
    "Segundo a [Oxford Languages](https://languages.oup.com/google-dictionary-pt/), *plaíndromos* são testos que se pode ler, indiferentemente, da esquerda para a direita ou vice-versa. Por exemplo: \"arara\", \"asa\", \"mirim\"... E também as frases: \"A cara rajada da jararaca\", \"Socorram-me, subi no ônivus em Marrocos\"...Perceba que, em frases, deve-se ignorar a pontuação, acentuação, espaços e maiúsculas/minúsculas.\n",
    "\n",
    "Implemente a função *verifica_palindromo* que recebe como parâmetro uma string (texto ou única palavra) e retorna *true* caso o parâmetro seja um palíndromo ou *false*, caso contrário. Além disso, a função deve imprimir na saída a indicação se a palvra é ou não é um palíndromo (ou seja, um print afirmando isso).\n",
    "\n",
    "As funções do exercício anterior podem lhe ajudar para processamento de string, para isso *chame-as* e *não implemente-as*. Ignore as seguintes pontuações: *, - ! ?* e o espaço em branco. Além disso, acentos agudos, til e circunflexo em vogais devem ser ignorados, pode-se usar sem acento.\n",
    "\n",
    "PS: Lembre-se de sempre rodar a função antes e trocar os null"
   ]
  },
  {
   "cell_type": "code",
   "execution_count": null,
   "metadata": {},
   "outputs": [],
   "source": [
    "#implemete sua função aqui!"
   ]
  },
  {
   "cell_type": "code",
   "execution_count": null,
   "metadata": {},
   "outputs": [],
   "source": [
    "#testes\n",
    "verifica_palindromo(\"após a\")"
   ]
  }
 ],
 "metadata": {
  "kernelspec": {
   "display_name": "Python 3",
   "language": "python",
   "name": "python3"
  },
  "language_info": {
   "codemirror_mode": {
    "name": "ipython",
    "version": 3
   },
   "file_extension": ".py",
   "mimetype": "text/x-python",
   "name": "python",
   "nbconvert_exporter": "python",
   "pygments_lexer": "ipython3",
   "version": "3.6.9"
  }
 },
 "nbformat": 4,
 "nbformat_minor": 2
}
