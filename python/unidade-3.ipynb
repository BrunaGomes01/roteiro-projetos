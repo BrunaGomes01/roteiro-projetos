{
 "cells": [
  {
   "cell_type": "markdown",
   "metadata": {},
   "source": [
    "# Mais sobre funções e Métodos úteis"
   ]
  },
  {
   "cell_type": "markdown",
   "metadata": {},
   "source": [
    "### Aquecimento\n",
    "##### Exercício 0.6\n",
    "Implemente a função *metodos_vetor* que recebe como parâmetro um vetor e retorna o próprio, porém com as seguintes modificações:\n",
    "- Ordene o vetor de forma crescente\n",
    "- Remova o último elemento do vetor (quando já ordenado)\n",
    "- Insira a palavra *abacate* no início\n",
    "- Escreva o vetor resultante\n",
    "\n",
    "DICA! Consulte a [documentação](https://docs.python.org/3.5/tutorial/datastructures.html#more-on-lists) ou os [slides](https://daniel-hasan.github.io/cefet-web-grad/classes/python2/#4) para ver métodos para listas \n",
    "\n",
    "PS: Lembre-se de sempre rodar a função antes e trocas os *null*"
   ]
  },
  {
   "cell_type": "code",
   "execution_count": null,
   "metadata": {},
   "outputs": [],
   "source": [
    "#implemente aqui sua função!"
   ]
  },
  {
   "cell_type": "code",
   "execution_count": null,
   "metadata": {},
   "outputs": [],
   "source": [
    "vetor_str = [\"uva\", \"maçã\", \"abacaxi\", \"pera\"]\n",
    "vetor_int = [2, 3, 7, 8, 0, 4, 1]\n",
    "\n",
    "#faça os testes aqui!"
   ]
  },
  {
   "cell_type": "markdown",
   "metadata": {},
   "source": [
    "##### Exercício 0.7\n",
    "Implemente a função *metodos_string* que recebe como parâmetro uma string e retorna o próprio, porém com as seguintes modificações:\n",
    "- Deixá-la toda maiúscula\n",
    "- Substituir todas as letras \"o\" por \"a\"\n",
    "- Escreva a string resultante\n",
    "\n",
    "DICA! Consulte a [documentação](https://docs.python.org/3.5/library/stdtypes.html#string-methods) ou os [slides](https://daniel-hasan.github.io/cefet-web-grad/classes/python2/#5) para ver métodos para strings \n",
    "\n",
    "PS: Lembre-se de sempre rodar a função antes e trocas os *null*"
   ]
  },
  {
   "cell_type": "code",
   "execution_count": null,
   "metadata": {},
   "outputs": [],
   "source": [
    "#implemente sua função aqui!"
   ]
  },
  {
   "cell_type": "code",
   "execution_count": null,
   "metadata": {},
   "outputs": [],
   "source": [
    "str_1 = \"comemoração\"\n",
    "str_2 = \"olho\"\n",
    "\n",
    "#faça os testes aqui!"
   ]
  },
  {
   "cell_type": "markdown",
   "metadata": {},
   "source": [
    "### Exercício 9: Conversão de datas\n",
    "Implemente a função *converte_data* que recebe como parâmetro uma data no formato DD/MM/YYYY (ex: 09/03/2021) e converte para o formato por extenso \"DD de M de YYYY\" (ou seja, 09 de março de 2020) e escreva-a.\n",
    "\n",
    "Recrie a função *obtem_mes* implementada no exercício 0.5 para te auxiliar. \n",
    "\n",
    "PS: Lembre-se de sempre rodar a função antes e trocar os null"
   ]
  },
  {
   "cell_type": "code",
   "execution_count": null,
   "metadata": {},
   "outputs": [],
   "source": [
    "#implemente sua função aqui!"
   ]
  },
  {
   "cell_type": "code",
   "execution_count": 2,
   "metadata": {},
   "outputs": [],
   "source": [
    "data_1 = \"31/10/2020\"\n",
    "data_2 = \"22/01/2004\""
   ]
  },
  {
   "cell_type": "markdown",
   "metadata": {},
   "source": [
    "### Exercício 9: Conversão de datas\n",
    "Implemente a função *converte_data* que recebe como parâmetro uma data no formato DD/MM/YYYY (ex: 09/03/2021) e converte para o formato por extenso \"DD de M de YYYY\" (ou seja, 09 de março de 2020) e escreva-a.\n",
    "\n",
    "Recrie a função *obtem_mes* implementada no exercício 0.5 para te auxiliar. \n",
    "\n",
    "PS: Lembre-se de sempre rodar a função antes e trocar os null"
   ]
  },
  {
   "cell_type": "code",
   "execution_count": null,
   "metadata": {},
   "outputs": [],
   "source": [
    "def elimina_caracteres(texto, caracteres_para_eliminar):\n",
    "    for(caracter_eliminar in caracteres_para_eliminar):\n",
    "        //\n",
    "    return "
   ]
  }
 ],
 "metadata": {
  "kernelspec": {
   "display_name": "Python 3",
   "language": "python",
   "name": "python3"
  },
  "language_info": {
   "codemirror_mode": {
    "name": "ipython",
    "version": 3
   },
   "file_extension": ".py",
   "mimetype": "text/x-python",
   "name": "python",
   "nbconvert_exporter": "python",
   "pygments_lexer": "ipython3",
   "version": "3.6.9"
  }
 },
 "nbformat": 4,
 "nbformat_minor": 2
}
