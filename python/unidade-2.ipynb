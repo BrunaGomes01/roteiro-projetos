{
 "cells": [
  {
   "cell_type": "markdown",
   "metadata": {},
   "source": [
    "# Condicionais, Vetores e Estruturas de Repetição"
   ]
  },
  {
   "cell_type": "markdown",
   "metadata": {},
   "source": [
    "### Aquecimento\n",
    "##### Exercício 0.4\n",
    "Continue a implementação da função *entendendoParaCada*, recebendo um vetor *vetorElementos* e uma variável *elementoBusca*, utilizando o *for in* para contabilizar as vezes que o *elementoBusca* apareceu no *vetorElementos*\n",
    "\n",
    "Chame a função e imprima o resultado em testes.\n",
    "\n",
    "PS: Lembre-se de sempre rodar a função antes e trocas os *null*"
   ]
  },
  {
   "cell_type": "code",
   "execution_count": null,
   "metadata": {},
   "outputs": [],
   "source": [
    "def entendendoParaCada(null): \n",
    "    quantidadeElementos = 0\n",
    "    \n",
    "    for elemento in vetorElementos:\n",
    "        null\n",
    "        return quantidadeElementos"
   ]
  },
  {
   "cell_type": "code",
   "execution_count": null,
   "metadata": {},
   "outputs": [],
   "source": [
    "#testes\n",
    "vetor = [1,2,3,4,1,5,6,1]\n",
    "elementoBusca = 1\n",
    "\n",
    "entendendoParaCada(null)"
   ]
  },
  {
   "cell_type": "markdown",
   "metadata": {},
   "source": [
    "##### Exercício 0.5\n",
    "A função *obtemMes* recebe de parâmetro um número do mês (1 ao 12) e deve retornar o nome do mês escolhido.Substitua os valores *null* pelos corretos na função *obtemMes* e verifique se o número recebido é válido.\n",
    "\n",
    "Não altere o vetor *meses*, apenas o que tiver referido como *null* e faça testes com meses válidos e inválidos, imprimindo-os na tela\n",
    "\n",
    "PS: Lembre-se de sempre rodar a função antes e trocar os *null*"
   ]
  },
  {
   "cell_type": "code",
   "execution_count": null,
   "metadata": {},
   "outputs": [],
   "source": [
    "def obtemMes(numMes):\n",
    "    if(numMes < null and numMes > null):\n",
    "        return (f\"{numMes} é inválido\")\n",
    "    \n",
    "    meses = [\n",
    "        \"janeiro\",\n",
    "        \"fevereiro\",\n",
    "        \"março\",\n",
    "        \"abril\",\n",
    "        \"maio\",\n",
    "        \"junho\",\n",
    "        \"julho\",\n",
    "        \"agosto\",\n",
    "        \"setembro\",\n",
    "        \"outubro\",\n",
    "        \"novembro\",\n",
    "        \"dezembro\"\n",
    "    ]\n",
    "    \n",
    "    return meses[null]"
   ]
  },
  {
   "cell_type": "code",
   "execution_count": null,
   "metadata": {},
   "outputs": [],
   "source": [
    "#testes\n",
    "obtemMes(1)\n",
    "obtemMes(15)"
   ]
  }
 ],
 "metadata": {
  "kernelspec": {
   "display_name": "Python 3",
   "language": "python",
   "name": "python3"
  },
  "language_info": {
   "codemirror_mode": {
    "name": "ipython",
    "version": 3
   },
   "file_extension": ".py",
   "mimetype": "text/x-python",
   "name": "python",
   "nbconvert_exporter": "python",
   "pygments_lexer": "ipython3",
   "version": "3.6.9"
  }
 },
 "nbformat": 4,
 "nbformat_minor": 2
}
