{
 "cells": [
  {
   "cell_type": "markdown",
   "metadata": {},
   "source": [
    "# Condicionais, Vetores e Estruturas de Repetição"
   ]
  },
  {
   "cell_type": "markdown",
   "metadata": {},
   "source": [
    "### Aquecimento\n",
    "##### Exercício 0.4\n",
    "Continue a implementação da função *entendendo_para_cada*, recebendo um vetor *vetorElementos* e uma variável *elementoBusca*, utilizando o *for in* para contabilizar as vezes que o *elementoBusca* apareceu no *vetorElementos*\n",
    "\n",
    "Chame a função e imprima o resultado em testes.\n",
    "\n",
    "PS: Lembre-se de sempre rodar a função antes e trocas os *null*"
   ]
  },
  {
   "cell_type": "code",
   "execution_count": null,
   "metadata": {},
   "outputs": [],
   "source": [
    "def entendendo_para_cada(null): \n",
    "    quantidadeElementos = 0\n",
    "    \n",
    "    for elemento in vetorElementos:\n",
    "        null\n",
    "        return quantidadeElementos"
   ]
  },
  {
   "cell_type": "code",
   "execution_count": null,
   "metadata": {},
   "outputs": [],
   "source": [
    "#testes\n",
    "vetor = [1,2,3,4,1,5,6,1]\n",
    "elementoBusca = 1\n",
    "\n",
    "entendendo_para_cada(null)"
   ]
  },
  {
   "cell_type": "markdown",
   "metadata": {},
   "source": [
    "##### Exercício 0.5\n",
    "A função *obtem_mes* recebe de parâmetro um número do mês (1 ao 12) e deve retornar o nome do mês escolhido.Substitua os valores *null* pelos corretos na função *obtemMes* e verifique se o número recebido é válido.\n",
    "\n",
    "Não altere o vetor *meses*, apenas o que tiver referido como *null* e faça testes com meses válidos e inválidos, imprimindo-os na tela\n",
    "\n",
    "PS: Lembre-se de sempre rodar a função antes e trocar os *null*"
   ]
  },
  {
   "cell_type": "code",
   "execution_count": null,
   "metadata": {},
   "outputs": [],
   "source": [
    "def obtem_mes(numMes):\n",
    "    if(numMes < null and numMes > null):\n",
    "        return (f\"{numMes} é inválido\")\n",
    "    \n",
    "    meses = [\n",
    "        \"janeiro\",\n",
    "        \"fevereiro\",\n",
    "        \"março\",\n",
    "        \"abril\",\n",
    "        \"maio\",\n",
    "        \"junho\",\n",
    "        \"julho\",\n",
    "        \"agosto\",\n",
    "        \"setembro\",\n",
    "        \"outubro\",\n",
    "        \"novembro\",\n",
    "        \"dezembro\"\n",
    "    ]\n",
    "    \n",
    "    return meses[null]"
   ]
  },
  {
   "cell_type": "code",
   "execution_count": null,
   "metadata": {},
   "outputs": [],
   "source": [
    "#testes\n",
    "obtem_mes(1)\n",
    "obtem_mes(15)"
   ]
  },
  {
   "cell_type": "markdown",
   "metadata": {},
   "source": [
    "### Exercício 3: Velocidade e altura da bola em vários instantes t\n",
    "Implemente a função *velocidade_altura_bola* que recebe como parâmetro a gravidade g, a velocidade inicial v e um valor inteiro n, a saída retorna a altura *h(t)* e a velocidade *v(t)* da bola.\n",
    "Recrie as funções implementadas no exercício 1 e 2 e mude t para variar de 1 até n.\n",
    "\n",
    "PS: Lembre-se de sempre rodar a função antes e trocar os null"
   ]
  },
  {
   "cell_type": "code",
   "execution_count": 1,
   "metadata": {},
   "outputs": [],
   "source": [
    "#implemente sua função aqui!"
   ]
  },
  {
   "cell_type": "code",
   "execution_count": null,
   "metadata": {},
   "outputs": [],
   "source": [
    "#testes\n",
    "n = 20\n",
    "bola = velocidade_altura_bola(9.81, 50, n)"
   ]
  },
  {
   "cell_type": "markdown",
   "metadata": {},
   "source": [
    "### Exercício 4: Somatório\n",
    "Implemente a função *somatorio* que recebe como parâmetro um valor inteiro n e fará o seguinte cálculo: *S = i/2 + 1/4 + 1/6 + ... + 1/n*. Logo após, retorne o resultado S.\n",
    "\n",
    "Lembre-se de como criar um laço *for* [nesses slides (1/3)](https://daniel-hasan.github.io/cefet-web-grad/classes/python1/#18)\n",
    "\n",
    "PS: Lembre-se de sempre rodar a função antes e trocar os null"
   ]
  },
  {
   "cell_type": "code",
   "execution_count": null,
   "metadata": {},
   "outputs": [],
   "source": [
    "#implemente sua função aqui!"
   ]
  },
  {
   "cell_type": "code",
   "execution_count": null,
   "metadata": {},
   "outputs": [],
   "source": [
    "#testes\n",
    "som_1 = somatorio(1)\n",
    "som_2 = somatorio(10)\n",
    "som_3 = somatorio(100)"
   ]
  },
  {
   "cell_type": "markdown",
   "metadata": {},
   "source": [
    "### Exercício 5: Posição de um elemento no vetor\n",
    "Implemente a função *obtem_posicao_elemento* que recebe como parâmetro um vetor e um elemento, a função retorna a posição da primeira ocorrência do mesmo. Caso não exista, retorne *null*. A função deve funcionar para qualquer tamanho de vetor.\n",
    "\n",
    "Exemplo: considere o vetor *v = [\"a\", \"b\", \"c\"]*, caso exercutarmos *obtem_posicao_elemento(v, \"b\")*, o retorno deverá ser 1.\n",
    "\n",
    "PS: Lembre-se de sempre rodar a função antes e trocar os null"
   ]
  },
  {
   "cell_type": "code",
   "execution_count": null,
   "metadata": {},
   "outputs": [],
   "source": [
    "#implemente sua função aqui!"
   ]
  },
  {
   "cell_type": "code",
   "execution_count": null,
   "metadata": {},
   "outputs": [],
   "source": [
    "#teste\n",
    "cores = [\"azul\", \"roxo\", \"verde\", \"rosa\", \"azul\"]\n",
    "obtem_posicao_elemento(cores, \"azul\") #deve retornar 0\n",
    "obtem_posicao_elemento(cores, \"rosa\") #deve retornar 3"
   ]
  },
  {
   "cell_type": "markdown",
   "metadata": {},
   "source": [
    "### Exercício 6: Operações com vetores\n",
    "Implemente a função *operacao_vetor* que recebe como parâmetro um vetor de números e retorna a seguinte conta: *(min+max)/2*, onde *min* é o menor valor do vetor e *max* é o maior valor do vetor. A função deve funcionar para qualquer tamanho de vetor.\n",
    "\n",
    "PS: Lembre-se de sempre rodar a função antes e trocar os null"
   ]
  },
  {
   "cell_type": "code",
   "execution_count": null,
   "metadata": {},
   "outputs": [],
   "source": [
    "#implemente sua função aqui!"
   ]
  },
  {
   "cell_type": "code",
   "execution_count": null,
   "metadata": {},
   "outputs": [],
   "source": [
    "#testes\n",
    "vetor = [4, 6, 7, 12, 9]\n",
    "operacao_vetor(vetor)"
   ]
  },
  {
   "cell_type": "markdown",
   "metadata": {},
   "source": [
    "### Exercício 7: Sequência de Fibonacci\n",
    "Implemente a função *operacao_vetor* que recebe como parâmetro um vetor de números e retorna a seguinte conta: *(min+max)/2*, onde *min* é o menor valor do vetor e *max* é o maior valor do vetor. A função deve funcionar para qualquer tamanho de vetor.\n",
    "\n",
    "PS: Lembre-se de sempre rodar a função antes e trocar os null"
   ]
  },
  {
   "cell_type": "code",
   "execution_count": null,
   "metadata": {},
   "outputs": [],
   "source": [
    "def fibonacci(tamanho_sequencia):\n",
    "    array_sequencia = [0,1]\n",
    "    \n",
    "    return array_sequencia"
   ]
  },
  {
   "cell_type": "code",
   "execution_count": null,
   "metadata": {},
   "outputs": [],
   "source": [
    "seq_1 = fibonacci()"
   ]
  },
  {
   "cell_type": "markdown",
   "metadata": {},
   "source": [
    "### Exercício 8: Rede Social\n",
    "Implemente a função *operacao_vetor* que recebe como parâmetro um vetor de números e retorna a seguinte conta: *(min+max)/2*, onde *min* é o menor valor do vetor e *max* é o maior valor do vetor. A função deve funcionar para qualquer tamanho de vetor.\n",
    "\n",
    "PS: Lembre-se de sempre rodar a função antes e trocar os null"
   ]
  }
 ],
 "metadata": {
  "kernelspec": {
   "display_name": "Python 3",
   "language": "python",
   "name": "python3"
  },
  "language_info": {
   "codemirror_mode": {
    "name": "ipython",
    "version": 3
   },
   "file_extension": ".py",
   "mimetype": "text/x-python",
   "name": "python",
   "nbconvert_exporter": "python",
   "pygments_lexer": "ipython3",
   "version": "3.6.9"
  }
 },
 "nbformat": 4,
 "nbformat_minor": 2
}
