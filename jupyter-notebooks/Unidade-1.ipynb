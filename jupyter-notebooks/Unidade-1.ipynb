{
 "cells": [
  {
   "cell_type": "markdown",
   "metadata": {},
   "source": [
    "# Tipos de Dados, Variáveis e Funções"
   ]
  },
  {
   "cell_type": "markdown",
   "metadata": {},
   "source": [
    "### Aquecimento\n",
    "Aqui temos uma função já declarada que imprime uma variável a qualquer, perceba que ela não está sendo invocada, apenas declarada.\n",
    "\n",
    "PS: Lembre-se de sempre rodar a função antes"
   ]
  },
  {
   "cell_type": "code",
   "execution_count": 22,
   "metadata": {},
   "outputs": [],
   "source": [
    "def escreva(x):\n",
    "    print(x)"
   ]
  },
  {
   "cell_type": "markdown",
   "metadata": {},
   "source": [
    "##### Exercício 0.1\n",
    "Chame-a e faça com que ela imprima: I - uma variável a, II - uma variável b, III - soma da váriavel a e b"
   ]
  },
  {
   "cell_type": "code",
   "execution_count": null,
   "metadata": {},
   "outputs": [],
   "source": [
    "a = //\n",
    "b = //"
   ]
  },
  {
   "cell_type": "markdown",
   "metadata": {},
   "source": [
    "##### Exercício 0.2\n",
    "Crie uma função *soma* que receba dois números de parâmetro e utilize a função *escreva* para mostrar na tela o que retorna"
   ]
  },
  {
   "cell_type": "code",
   "execution_count": 17,
   "metadata": {},
   "outputs": [],
   "source": [
    "def soma():\n",
    "    //"
   ]
  },
  {
   "cell_type": "markdown",
   "metadata": {},
   "source": [
    "##### Exercício 0.3\n",
    "Implemente uma função chamada *calculos* que recebe como parâmetro um número qualquer e retorne: I - quadrado do número, II - sua metade e III - sua raíz quadrada. Teste com pelo menos dois números."
   ]
  },
  {
   "cell_type": "code",
   "execution_count": null,
   "metadata": {},
   "outputs": [],
   "source": [
    "def calculos():\n",
    "    //"
   ]
  },
  {
   "cell_type": "code",
   "execution_count": null,
   "metadata": {},
   "outputs": [],
   "source": [
    "#testes\n",
    "calculos()\n",
    "calculos()"
   ]
  },
  {
   "cell_type": "markdown",
   "metadata": {},
   "source": [
    "### Exercício 1: Altura da Bola no instante *t*\n",
    "Imagine que uma bola é jogada para o alto e devemos calcular a altura em metros h desta bola num tempo t. Considere que a seguinte equação *h = vt - (gt²/2)*, onde _v_ é a velocidade inicial e g a gravidade.\n",
    "\n",
    "Essa função recebe como paramêtro o tempo t, a gravidade g e a velocidade inicial v, invoque então a função *escreva* para mostrar na tela a altura encontrada.\n",
    "\n",
    "Para testar utilize a gravidade da Terra (9,81 m/s²), velocidade inicial como 50m/s e tempo como 1, 5 e 10 (invoque a função 3 vezes)\n",
    "\n",
    "PS: Lembre-se de sempre rodar a função antes"
   ]
  },
  {
   "cell_type": "code",
   "execution_count": null,
   "metadata": {},
   "outputs": [],
   "source": [
    "def alturaBola():\n",
    "    //"
   ]
  },
  {
   "cell_type": "code",
   "execution_count": null,
   "metadata": {},
   "outputs": [],
   "source": [
    "#testes\n",
    "bola1 = //\n",
    "bola2 = //\n",
    "bola3 = //"
   ]
  },
  {
   "cell_type": "markdown",
   "metadata": {},
   "source": [
    "### Exercício 2: Velocidade da Bola no instante *t*\n",
    "Podemos complementar o exercício anterior com mais uma informação sobre o lançamento: a velocidade V da bola no instante t, seguindo a equação *V(t) = v-gt*.\n",
    "\n",
    "Essa função recebe como paramêtro o tempo t, a gravidade g e a velocidade inicial v, invoque então a função *escreva* para mostrar na tela a velocidade encontrada.\n",
    "\n",
    "Sempre lembre das regras de legibilidade, por exemplo, chame a variavel de *gravidade* e não _g_!\n",
    "\n",
    "Para testar utilize a gravidade da Terra (9,81 m/s²), velocidade inicial como 50m/s e tempo como 1, 5 e 10 (invoque a função 3 vezes)\n",
    "\n",
    "PS: Lembre-se de sempre rodar a função antes"
   ]
  },
  {
   "cell_type": "code",
   "execution_count": null,
   "metadata": {},
   "outputs": [],
   "source": [
    "def velocidade():\n",
    "    //"
   ]
  },
  {
   "cell_type": "code",
   "execution_count": null,
   "metadata": {},
   "outputs": [],
   "source": [
    "#testes\n",
    "bola1 = //\n",
    "bola2 = //\n",
    "bola3 = //"
   ]
  }
 ],
 "metadata": {
  "kernelspec": {
   "display_name": "Python 3",
   "language": "python",
   "name": "python3"
  },
  "language_info": {
   "codemirror_mode": {
    "name": "ipython",
    "version": 3
   },
   "file_extension": ".py",
   "mimetype": "text/x-python",
   "name": "python",
   "nbconvert_exporter": "python",
   "pygments_lexer": "ipython3",
   "version": "3.6.9"
  }
 },
 "nbformat": 4,
 "nbformat_minor": 2
}
